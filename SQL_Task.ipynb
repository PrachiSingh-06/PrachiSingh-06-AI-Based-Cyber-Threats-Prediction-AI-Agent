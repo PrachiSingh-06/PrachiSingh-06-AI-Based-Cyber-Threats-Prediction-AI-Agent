{
  "nbformat": 4,
  "nbformat_minor": 0,
  "metadata": {
    "colab": {
      "provenance": []
    },
    "kernelspec": {
      "name": "python3",
      "display_name": "Python 3"
    },
    "language_info": {
      "name": "python"
    }
  },
  "cells": [
    {
      "cell_type": "code",
      "execution_count": 1,
      "metadata": {
        "id": "Xxs1NLcGvAuH"
      },
      "outputs": [],
      "source": [
        "import sqlite3\n",
        "import pandas as pd\n",
        "\n",
        "# Create in-memory SQLite database\n",
        "conn = sqlite3.connect(':memory:')\n",
        "cursor = conn.cursor()"
      ]
    },
    {
      "cell_type": "markdown",
      "source": [
        "Create a table students with 5 sample rows"
      ],
      "metadata": {
        "id": "nrf-mOT-vLAl"
      }
    },
    {
      "cell_type": "code",
      "source": [
        "cursor.execute('''\n",
        "CREATE TABLE students (\n",
        "    id INTEGER,\n",
        "    name TEXT,\n",
        "    course TEXT,\n",
        "    marks INTEGER,\n",
        "    join_date TEXT\n",
        ")\n",
        "''')\n",
        "\n",
        "cursor.executemany('''\n",
        "INSERT INTO students VALUES (?, ?, ?, ?, ?)\n",
        "''', [\n",
        "    (1, 'Asha', 'AI', 85, '2022-01-10'),\n",
        "    (2, 'Rahul', 'ML', 90, '2021-11-05'),\n",
        "    (3, 'Priya', 'DS', 88, '2023-03-15'),\n",
        "    (4, 'Kiran', 'AI', 92, '2020-07-20'),\n",
        "    (5, 'Meena', 'ML', 80, '2022-06-30')\n",
        "])\n",
        "\n",
        "print(\"✅ Students table created with 5 rows.\\n\")"
      ],
      "metadata": {
        "colab": {
          "base_uri": "https://localhost:8080/"
        },
        "id": "Ryqg-VVPvHIf",
        "outputId": "2d7a34b7-5dc2-4280-a8a4-f05b7a579296"
      },
      "execution_count": 2,
      "outputs": [
        {
          "output_type": "stream",
          "name": "stdout",
          "text": [
            "✅ Students table created with 5 rows.\n",
            "\n"
          ]
        }
      ]
    },
    {
      "cell_type": "markdown",
      "source": [
        "Show all students from 'ML' course scoring more than 85"
      ],
      "metadata": {
        "id": "0GbakELjwImc"
      }
    },
    {
      "cell_type": "code",
      "source": [
        "print(\"➡️ Students from ML course scoring > 85:\")\n",
        "df = pd.read_sql_query(\"SELECT * FROM students WHERE course='ML' AND marks>85\", conn)\n",
        "print(df, \"\\n\")"
      ],
      "metadata": {
        "colab": {
          "base_uri": "https://localhost:8080/"
        },
        "id": "QAMK4wfvvHLV",
        "outputId": "f8079cbd-d992-44bf-8bc4-2a08048d1f44"
      },
      "execution_count": 3,
      "outputs": [
        {
          "output_type": "stream",
          "name": "stdout",
          "text": [
            "➡️ Students from ML course scoring > 85:\n",
            "   id   name course  marks   join_date\n",
            "0   2  Rahul     ML     90  2021-11-05 \n",
            "\n"
          ]
        }
      ]
    },
    {
      "cell_type": "markdown",
      "source": [
        "Show average marks per course using GROUP BY"
      ],
      "metadata": {
        "id": "gbYjjuOtxJGl"
      }
    },
    {
      "cell_type": "code",
      "source": [
        "print(\"➡️ Average marks per course:\")\n",
        "df = pd.read_sql_query(\"SELECT course, AVG(marks) AS avg_marks FROM students GROUP BY course\", conn)\n",
        "print(df, \"\\n\")"
      ],
      "metadata": {
        "colab": {
          "base_uri": "https://localhost:8080/"
        },
        "id": "5oHJP8spvHOT",
        "outputId": "ae320746-1aa6-4356-f354-e75ae706bd9e"
      },
      "execution_count": 4,
      "outputs": [
        {
          "output_type": "stream",
          "name": "stdout",
          "text": [
            "➡️ Average marks per course:\n",
            "  course  avg_marks\n",
            "0     AI       88.5\n",
            "1     DS       88.0\n",
            "2     ML       85.0 \n",
            "\n"
          ]
        }
      ]
    },
    {
      "cell_type": "markdown",
      "source": [
        "List students by highest marks using ORDER BY\n"
      ],
      "metadata": {
        "id": "QHtunpX1xDOA"
      }
    },
    {
      "cell_type": "code",
      "source": [
        "print(\"➡️ Students ordered by highest marks:\")\n",
        "df = pd.read_sql_query(\"SELECT * FROM students ORDER BY marks DESC\", conn)\n",
        "print(df, \"\\n\")"
      ],
      "metadata": {
        "colab": {
          "base_uri": "https://localhost:8080/"
        },
        "id": "LMDFVZdUvHQm",
        "outputId": "7d62aa0f-ffc6-4ab6-c3e5-af383f488999"
      },
      "execution_count": 5,
      "outputs": [
        {
          "output_type": "stream",
          "name": "stdout",
          "text": [
            "➡️ Students ordered by highest marks:\n",
            "   id   name course  marks   join_date\n",
            "0   4  Kiran     AI     92  2020-07-20\n",
            "1   2  Rahul     ML     90  2021-11-05\n",
            "2   3  Priya     DS     88  2023-03-15\n",
            "3   1   Asha     AI     85  2022-01-10\n",
            "4   5  Meena     ML     80  2022-06-30 \n",
            "\n"
          ]
        }
      ]
    },
    {
      "cell_type": "markdown",
      "source": [
        "Show students who joined after Jan 1, 2022"
      ],
      "metadata": {
        "id": "wMr7kCuBwVyq"
      }
    },
    {
      "cell_type": "code",
      "source": [
        "print(\"➡️ Students who joined after 2022-01-01:\")\n",
        "df = pd.read_sql_query(\"SELECT * FROM students WHERE join_date > '2022-01-01'\", conn)\n",
        "print(df, \"\\n\")"
      ],
      "metadata": {
        "colab": {
          "base_uri": "https://localhost:8080/"
        },
        "id": "fYg4RAtcvHTZ",
        "outputId": "7af357a9-90d0-42ae-effc-b19b70d10955"
      },
      "execution_count": 6,
      "outputs": [
        {
          "output_type": "stream",
          "name": "stdout",
          "text": [
            "➡️ Students who joined after 2022-01-01:\n",
            "   id   name course  marks   join_date\n",
            "0   1   Asha     AI     85  2022-01-10\n",
            "1   3  Priya     DS     88  2023-03-15\n",
            "2   5  Meena     ML     80  2022-06-30 \n",
            "\n"
          ]
        }
      ]
    },
    {
      "cell_type": "markdown",
      "source": [
        " Create a second table projects and join with students"
      ],
      "metadata": {
        "id": "FJAc2YXswziC"
      }
    },
    {
      "cell_type": "code",
      "source": [
        "cursor.execute('''\n",
        "CREATE TABLE projects (\n",
        "    project_id INTEGER,\n",
        "    project_name TEXT,\n",
        "    student_id INTEGER\n",
        ")\n",
        "''')\n",
        "\n",
        "cursor.executemany('''\n",
        "INSERT INTO projects VALUES (?, ?, ?)\n",
        "''', [\n",
        "    (101, 'AI Chatbot', 1),\n",
        "    (102, 'ML Model', 2),\n",
        "    (103, 'Data Dashboard', 3),\n",
        "    (104, 'AI Automation', 4),\n",
        "    (105, 'ML Predictor', 5)\n",
        "])\n",
        "\n",
        "print(\"➡️ Students and their projects (INNER JOIN):\")\n",
        "df = pd.read_sql_query('''\n",
        "SELECT s.name, s.course, p.project_name\n",
        "FROM students s\n",
        "JOIN projects p ON s.id = p.student_id\n",
        "''', conn)\n",
        "print(df, \"\\n\")"
      ],
      "metadata": {
        "colab": {
          "base_uri": "https://localhost:8080/"
        },
        "id": "RoZC1CrNvHWB",
        "outputId": "ee7c0d10-388c-42b7-e47b-2a2fca10e2b4"
      },
      "execution_count": 7,
      "outputs": [
        {
          "output_type": "stream",
          "name": "stdout",
          "text": [
            "➡️ Students and their projects (INNER JOIN):\n",
            "    name course    project_name\n",
            "0   Asha     AI      AI Chatbot\n",
            "1  Rahul     ML        ML Model\n",
            "2  Priya     DS  Data Dashboard\n",
            "3  Kiran     AI   AI Automation\n",
            "4  Meena     ML    ML Predictor \n",
            "\n"
          ]
        }
      ]
    },
    {
      "cell_type": "markdown",
      "source": [
        "INNER JOIN, LEFT JOIN, RIGHT JOIN, SELF JOIN examples"
      ],
      "metadata": {
        "id": "Tae0othvwdZh"
      }
    },
    {
      "cell_type": "code",
      "source": [
        "print(\"➡️ INNER JOIN:\")\n",
        "df = pd.read_sql_query('''\n",
        "SELECT s.name, p.project_name\n",
        "FROM students s\n",
        "INNER JOIN projects p ON s.id = p.student_id\n",
        "''', conn)\n",
        "print(df, \"\\n\")\n",
        "\n",
        "print(\"➡️ LEFT JOIN:\")\n",
        "df = pd.read_sql_query('''\n",
        "SELECT s.name, p.project_name\n",
        "FROM students s\n",
        "LEFT JOIN projects p ON s.id = p.student_id\n",
        "''', conn)\n",
        "print(df, \"\\n\")\n",
        "\n",
        "print(\"➡️ RIGHT JOIN (Simulated):\")\n",
        "df = pd.read_sql_query('''\n",
        "SELECT p.project_name, s.name\n",
        "FROM projects p\n",
        "LEFT JOIN students s ON s.id = p.student_id\n",
        "''', conn)\n",
        "print(df, \"\\n\")\n",
        "\n",
        "print(\"➡️ SELF JOIN: Compare marks among students (previous/next-like logic)\")\n",
        "df = pd.read_sql_query('''\n",
        "SELECT a.name AS student, a.marks AS current_marks, b.name AS other_student, b.marks AS compared_marks\n",
        "FROM students a\n",
        "JOIN students b ON a.id != b.id\n",
        "WHERE a.id < 3\n",
        "''', conn)\n",
        "print(df, \"\\n\")"
      ],
      "metadata": {
        "colab": {
          "base_uri": "https://localhost:8080/"
        },
        "id": "AfY_wmSnvHY5",
        "outputId": "01f0d5d2-2782-4dbe-df0a-bd733b487caa"
      },
      "execution_count": 8,
      "outputs": [
        {
          "output_type": "stream",
          "name": "stdout",
          "text": [
            "➡️ INNER JOIN:\n",
            "    name    project_name\n",
            "0   Asha      AI Chatbot\n",
            "1  Rahul        ML Model\n",
            "2  Priya  Data Dashboard\n",
            "3  Kiran   AI Automation\n",
            "4  Meena    ML Predictor \n",
            "\n",
            "➡️ LEFT JOIN:\n",
            "    name    project_name\n",
            "0   Asha      AI Chatbot\n",
            "1  Rahul        ML Model\n",
            "2  Priya  Data Dashboard\n",
            "3  Kiran   AI Automation\n",
            "4  Meena    ML Predictor \n",
            "\n",
            "➡️ RIGHT JOIN (Simulated):\n",
            "     project_name   name\n",
            "0      AI Chatbot   Asha\n",
            "1        ML Model  Rahul\n",
            "2  Data Dashboard  Priya\n",
            "3   AI Automation  Kiran\n",
            "4    ML Predictor  Meena \n",
            "\n",
            "➡️ SELF JOIN: Compare marks among students (previous/next-like logic)\n",
            "  student  current_marks other_student  compared_marks\n",
            "0    Asha             85         Rahul              90\n",
            "1    Asha             85         Priya              88\n",
            "2    Asha             85         Kiran              92\n",
            "3    Asha             85         Meena              80\n",
            "4   Rahul             90          Asha              85\n",
            "5   Rahul             90         Priya              88\n",
            "6   Rahul             90         Kiran              92\n",
            "7   Rahul             90         Meena              80 \n",
            "\n"
          ]
        }
      ]
    },
    {
      "cell_type": "markdown",
      "source": [
        "Show names that appear more than once (duplicates)"
      ],
      "metadata": {
        "id": "Qa8AyakUwi0C"
      }
    },
    {
      "cell_type": "code",
      "source": [
        "cursor.executemany('INSERT INTO students VALUES (?, ?, ?, ?, ?)', [\n",
        "    (6, 'Asha', 'AI', 91, '2023-05-10'),\n",
        "])\n",
        "print(\"➡️ Duplicate student names:\")\n",
        "df = pd.read_sql_query('''\n",
        "SELECT name, COUNT(*) AS count\n",
        "FROM students\n",
        "GROUP BY name\n",
        "HAVING COUNT(*) > 1\n",
        "''', conn)\n",
        "print(df, \"\\n\")"
      ],
      "metadata": {
        "colab": {
          "base_uri": "https://localhost:8080/"
        },
        "id": "Na4u4h1LvHbq",
        "outputId": "22ae721f-e0b8-4d97-ab52-4824f835727a"
      },
      "execution_count": 9,
      "outputs": [
        {
          "output_type": "stream",
          "name": "stdout",
          "text": [
            "➡️ Duplicate student names:\n",
            "   name  count\n",
            "0  Asha      2 \n",
            "\n"
          ]
        }
      ]
    },
    {
      "cell_type": "markdown",
      "source": [
        "Convert course-wise monthly expenses (marks as expenses) into columns (Pivot)"
      ],
      "metadata": {
        "id": "5pcie9JSwlsY"
      }
    },
    {
      "cell_type": "code",
      "source": [
        "print(\"➡️ Pivot (Course-wise marks):\")\n",
        "df = pd.read_sql_query('SELECT course, name, marks FROM students', conn)\n",
        "pivot = df.pivot_table(index='name', columns='course', values='marks', aggfunc='first')\n",
        "print(pivot, \"\\n\")"
      ],
      "metadata": {
        "colab": {
          "base_uri": "https://localhost:8080/"
        },
        "id": "HWXVdwJQvHfL",
        "outputId": "e192a20e-22c8-41eb-f118-0777cf656d87"
      },
      "execution_count": 10,
      "outputs": [
        {
          "output_type": "stream",
          "name": "stdout",
          "text": [
            "➡️ Pivot (Course-wise marks):\n",
            "course    AI    DS    ML\n",
            "name                    \n",
            "Asha    85.0   NaN   NaN\n",
            "Kiran   92.0   NaN   NaN\n",
            "Meena    NaN   NaN  80.0\n",
            "Priya    NaN  88.0   NaN\n",
            "Rahul    NaN   NaN  90.0 \n",
            "\n"
          ]
        }
      ]
    },
    {
      "cell_type": "markdown",
      "source": [
        "Unpivot it back"
      ],
      "metadata": {
        "id": "wtjDp4lowoaZ"
      }
    },
    {
      "cell_type": "code",
      "source": [
        "print(\"➡️ Unpivoted data:\")\n",
        "unpivot = pivot.reset_index().melt(id_vars='name', var_name='course', value_name='marks')\n",
        "print(unpivot, \"\\n\")\n"
      ],
      "metadata": {
        "colab": {
          "base_uri": "https://localhost:8080/"
        },
        "id": "7e2C1sjqv2xc",
        "outputId": "62f00256-f3b3-46d3-b185-f9b44c6c6cb2"
      },
      "execution_count": 11,
      "outputs": [
        {
          "output_type": "stream",
          "name": "stdout",
          "text": [
            "➡️ Unpivoted data:\n",
            "     name course  marks\n",
            "0    Asha     AI   85.0\n",
            "1   Kiran     AI   92.0\n",
            "2   Meena     AI    NaN\n",
            "3   Priya     AI    NaN\n",
            "4   Rahul     AI    NaN\n",
            "5    Asha     DS    NaN\n",
            "6   Kiran     DS    NaN\n",
            "7   Meena     DS    NaN\n",
            "8   Priya     DS   88.0\n",
            "9   Rahul     DS    NaN\n",
            "10   Asha     ML    NaN\n",
            "11  Kiran     ML    NaN\n",
            "12  Meena     ML   80.0\n",
            "13  Priya     ML    NaN\n",
            "14  Rahul     ML   90.0 \n",
            "\n"
          ]
        }
      ]
    },
    {
      "cell_type": "markdown",
      "source": [
        "Combine first and last names"
      ],
      "metadata": {
        "id": "eTgIrhzMwq2y"
      }
    },
    {
      "cell_type": "code",
      "source": [
        "cursor.execute(\"ALTER TABLE students ADD COLUMN last_name TEXT;\")\n",
        "cursor.execute(\"UPDATE students SET last_name='Singh' WHERE id IN (1,2,3,4,5,6)\")\n",
        "print(\"➡️ Full names after concatenation:\")\n",
        "df = pd.read_sql_query(\"SELECT name || ' ' || last_name AS full_name, course, marks FROM students\", conn)\n",
        "print(df)\n"
      ],
      "metadata": {
        "colab": {
          "base_uri": "https://localhost:8080/"
        },
        "id": "-43zYwGcv20X",
        "outputId": "03243afc-d7ef-42e1-a8aa-7418d8ebd9cb"
      },
      "execution_count": 12,
      "outputs": [
        {
          "output_type": "stream",
          "name": "stdout",
          "text": [
            "➡️ Full names after concatenation:\n",
            "     full_name course  marks\n",
            "0   Asha Singh     AI     85\n",
            "1  Rahul Singh     ML     90\n",
            "2  Priya Singh     DS     88\n",
            "3  Kiran Singh     AI     92\n",
            "4  Meena Singh     ML     80\n",
            "5   Asha Singh     AI     91\n"
          ]
        }
      ]
    },
    {
      "cell_type": "code",
      "source": [],
      "metadata": {
        "id": "AVAcbVpPv23z"
      },
      "execution_count": null,
      "outputs": []
    }
  ]
}